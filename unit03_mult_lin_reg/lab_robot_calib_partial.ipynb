{
  "cells": [
    {
      "cell_type": "markdown",
      "metadata": {
        "id": "vKMUvGsVayeb"
      },
      "source": [
        "# Multiple Linear Regression for Robot Calibration\n",
        "\n",
        "In this lab, we will illustrate the use of multiple linear regression for calibrating robot control.  In addition to reviewing the concepts in the [multiple linear regression demo](./glucose.ipynb), you will see how to use multiple linear regression for time series data -- an important concept in dynamical systems such as robotics.\n",
        "\n",
        "The robot data for the lab is taken generously from the TU Dortmund's [Multiple Link Robot Arms Project](http://www.rst.e-technik.tu-dortmund.de/cms/en/research/robotics/TUDOR_engl/index.html).  As part of the project, they have created an excellent public dataset: [MERIt](http://www.rst.e-technik.tu-dortmund.de/cms/en/research/robotics/TUDOR_engl/index.html#h3MERIt) -- A Multi-Elastic-Link Robot Identification Dataset that can be used for understanding robot dynamics.  The data is from a three link robot:\n",
        "\n",
        "<img src=\"http://www.rst.e-technik.tu-dortmund.de/cms/Medienpool/redaktionelleBilder/Forschung/Schwerpunkte/TUDOR_engl/TUDORBild.png\" height=\"200\" width=\"200\">\n",
        "\n",
        "\n",
        "We will focus on predicting the current draw into one of the joints as a function of the robot motion.  Such models are essential in predicting the overall robot power consumption.  Several other models could also be used."
      ]
    },
    {
      "cell_type": "markdown",
      "metadata": {
        "id": "DWniGTRvayec"
      },
      "source": [
        "## Load and Visualize the Data\n",
        "First, import the modules we will need."
      ]
    },
    {
      "cell_type": "code",
      "execution_count": 15,
      "metadata": {
        "id": "vdhS0RRrayed"
      },
      "outputs": [],
      "source": [
        "import pandas as pd\n",
        "import numpy as np\n",
        "import matplotlib\n",
        "import matplotlib.pyplot as plt\n",
        "%matplotlib inline\n",
        "\n"
      ]
    },
    {
      "cell_type": "markdown",
      "metadata": {
        "id": "CqYSxkV3ayee"
      },
      "source": [
        "The full MERIt dataset can be obtained from the [MERIt site](http://www.rst.e-technik.tu-dortmund.de/cms/en/research/robotics/TUDOR_engl/index.html#h3MERIt).  But, this dataset is large.  Included in this repository are two of the ten experiments.  Each experiments corresonds to 80 seconds of recorded motion.  We will use the following files:\n",
        "* [exp1.csv](./exp1.csv) for training\n",
        "* [exp2.csv](./exp2.csv) for test\n",
        "\n",
        "If you are running this notebook on Google colab, you will need to run the following commands to load the files onto your local machine.  Otherwise, if you have clone the repository, the files should be in the directory as the notebook and you can skip this step."
      ]
    },
    {
      "cell_type": "code",
      "execution_count": 16,
      "metadata": {
        "colab": {
          "base_uri": "https://localhost:8080/"
        },
        "id": "lFNIKQFBayee",
        "outputId": "1749c260-0c9b-44a5-9ecf-188c9c95f67f"
      },
      "outputs": [
        {
          "output_type": "stream",
          "name": "stdout",
          "text": [
            "File exp1.csv is already downloaded\n",
            "File exp2.csv is already downloaded\n"
          ]
        }
      ],
      "source": [
        "import os\n",
        "from six.moves import urllib\n",
        "\n",
        "for fn_dst in ['exp1.csv', 'exp2.csv']:\n",
        "    fn_src = 'https://raw.githubusercontent.com/sdrangan/introml/master/unit03_mult_lin_reg/%s' % fn_dst\n",
        "\n",
        "    if os.path.isfile(fn_dst):\n",
        "        print('File %s is already downloaded' % fn_dst)\n",
        "    else:\n",
        "        print('Downloaded %s' % fn_dst)\n",
        "        urllib.request.urlretrieve(fn_src, fn_dst)"
      ]
    },
    {
      "cell_type": "markdown",
      "metadata": {
        "id": "rObmg-ZAayef"
      },
      "source": [
        "Below, I have supplied the column headers in the `names` array.  Use the `pd.read_csv` command to load the training data in `exp1.csv`.  Use the `index_col` option to specify that column 0 (the one with time) is the *index* column.  You can review [simple linear regression demo](..\\simp_lin_reg\\auto_mpg.ipynb) for examples of using the `pd.read_csv` command."
      ]
    },
    {
      "cell_type": "code",
      "execution_count": 30,
      "metadata": {
        "id": "bGR0P_h1ayef"
      },
      "outputs": [],
      "source": [
        "names =[\n",
        "    't',                                  # Time (secs)\n",
        "    'q1', 'q2', 'q3',                     # Joint angle   (rads)\n",
        "    'dq1', 'dq2', 'dq3',                  # Joint velocity (rads/sec)\n",
        "    'I1', 'I2', 'I3',                     # Motor current (A)\n",
        "    'eps21', 'eps22', 'eps31', 'eps32',   # Strain gauge measurements ($\\mu$m /m )\n",
        "    'ddq1', 'ddq2', 'ddq3'                # Joint accelerations (rad/sec^2)\n",
        "]\n",
        "# TODO 1\n",
        "# df = pd.read_csv('exp1.csv',delim_whitespace=True, names=names, na_values='?',index_col=0)\n",
        "df = pd.read_csv('exp1.csv',header=None, names=names, na_values='?')\n",
        "\n",
        "# df = pd.read_csv(...)"
      ]
    },
    {
      "cell_type": "markdown",
      "metadata": {
        "id": "NlqDU3Jpayef"
      },
      "source": [
        "Print the first six lines of the pandas dataframe and manually check that they match the first rows of the csv file."
      ]
    },
    {
      "cell_type": "code",
      "execution_count": 31,
      "metadata": {
        "colab": {
          "base_uri": "https://localhost:8080/",
          "height": 235
        },
        "id": "20ITaDiZayeg",
        "outputId": "42dd8606-9b8b-4516-f1d1-761a91d75535"
      },
      "outputs": [
        {
          "output_type": "execute_result",
          "data": {
            "text/html": [
              "\n",
              "  <div id=\"df-37db270e-c23e-437e-b50b-77f5b5cf7708\">\n",
              "    <div class=\"colab-df-container\">\n",
              "      <div>\n",
              "<style scoped>\n",
              "    .dataframe tbody tr th:only-of-type {\n",
              "        vertical-align: middle;\n",
              "    }\n",
              "\n",
              "    .dataframe tbody tr th {\n",
              "        vertical-align: top;\n",
              "    }\n",
              "\n",
              "    .dataframe thead th {\n",
              "        text-align: right;\n",
              "    }\n",
              "</style>\n",
              "<table border=\"1\" class=\"dataframe\">\n",
              "  <thead>\n",
              "    <tr style=\"text-align: right;\">\n",
              "      <th></th>\n",
              "      <th>t</th>\n",
              "      <th>q1</th>\n",
              "      <th>q2</th>\n",
              "      <th>q3</th>\n",
              "      <th>dq1</th>\n",
              "      <th>dq2</th>\n",
              "      <th>dq3</th>\n",
              "      <th>I1</th>\n",
              "      <th>I2</th>\n",
              "      <th>I3</th>\n",
              "      <th>eps21</th>\n",
              "      <th>eps22</th>\n",
              "      <th>eps31</th>\n",
              "      <th>eps32</th>\n",
              "      <th>ddq1</th>\n",
              "      <th>ddq2</th>\n",
              "      <th>ddq3</th>\n",
              "    </tr>\n",
              "  </thead>\n",
              "  <tbody>\n",
              "    <tr>\n",
              "      <th>0</th>\n",
              "      <td>0.00</td>\n",
              "      <td>-0.000007</td>\n",
              "      <td>2.4958</td>\n",
              "      <td>-1.1345</td>\n",
              "      <td>-7.882100e-21</td>\n",
              "      <td>-4.940656e-321</td>\n",
              "      <td>3.913100e-29</td>\n",
              "      <td>-0.081623</td>\n",
              "      <td>-0.40812</td>\n",
              "      <td>-0.30609</td>\n",
              "      <td>-269.25</td>\n",
              "      <td>-113.20</td>\n",
              "      <td>3.5918</td>\n",
              "      <td>1.57860</td>\n",
              "      <td>-9.904900e-19</td>\n",
              "      <td>-6.210306e-319</td>\n",
              "      <td>4.917400e-27</td>\n",
              "    </tr>\n",
              "    <tr>\n",
              "      <th>1</th>\n",
              "      <td>0.01</td>\n",
              "      <td>-0.000007</td>\n",
              "      <td>2.4958</td>\n",
              "      <td>-1.1345</td>\n",
              "      <td>-2.258200e-21</td>\n",
              "      <td>-4.940656e-321</td>\n",
              "      <td>2.626200e-31</td>\n",
              "      <td>-0.037411</td>\n",
              "      <td>-0.37241</td>\n",
              "      <td>-0.26698</td>\n",
              "      <td>-270.91</td>\n",
              "      <td>-116.05</td>\n",
              "      <td>1.4585</td>\n",
              "      <td>-1.73980</td>\n",
              "      <td>4.248100e-19</td>\n",
              "      <td>-1.766878e-319</td>\n",
              "      <td>-1.381100e-27</td>\n",
              "    </tr>\n",
              "    <tr>\n",
              "      <th>2</th>\n",
              "      <td>0.02</td>\n",
              "      <td>-0.000007</td>\n",
              "      <td>2.4958</td>\n",
              "      <td>-1.1345</td>\n",
              "      <td>-6.469800e-22</td>\n",
              "      <td>-4.940656e-321</td>\n",
              "      <td>1.762500e-33</td>\n",
              "      <td>-0.066319</td>\n",
              "      <td>-0.40302</td>\n",
              "      <td>-0.31459</td>\n",
              "      <td>-269.25</td>\n",
              "      <td>-112.97</td>\n",
              "      <td>3.5918</td>\n",
              "      <td>0.86753</td>\n",
              "      <td>3.233800e-19</td>\n",
              "      <td>-4.990557e-320</td>\n",
              "      <td>-4.117300e-28</td>\n",
              "    </tr>\n",
              "    <tr>\n",
              "      <th>3</th>\n",
              "      <td>0.03</td>\n",
              "      <td>-0.000007</td>\n",
              "      <td>2.4958</td>\n",
              "      <td>-1.1345</td>\n",
              "      <td>-1.853600e-22</td>\n",
              "      <td>-4.940656e-321</td>\n",
              "      <td>1.182800e-35</td>\n",
              "      <td>-0.068020</td>\n",
              "      <td>-0.43703</td>\n",
              "      <td>-0.28398</td>\n",
              "      <td>-269.97</td>\n",
              "      <td>-114.39</td>\n",
              "      <td>1.6956</td>\n",
              "      <td>-0.08059</td>\n",
              "      <td>1.500500e-19</td>\n",
              "      <td>-1.394253e-320</td>\n",
              "      <td>-1.173100e-28</td>\n",
              "    </tr>\n",
              "    <tr>\n",
              "      <th>4</th>\n",
              "      <td>0.04</td>\n",
              "      <td>-0.000007</td>\n",
              "      <td>2.4958</td>\n",
              "      <td>-1.1345</td>\n",
              "      <td>-5.310600e-23</td>\n",
              "      <td>-4.940656e-321</td>\n",
              "      <td>-5.270900e-03</td>\n",
              "      <td>-0.052715</td>\n",
              "      <td>-0.40472</td>\n",
              "      <td>-0.30779</td>\n",
              "      <td>-269.97</td>\n",
              "      <td>-114.15</td>\n",
              "      <td>3.1177</td>\n",
              "      <td>0.86753</td>\n",
              "      <td>5.932400e-20</td>\n",
              "      <td>-3.581976e-321</td>\n",
              "      <td>-3.770800e-01</td>\n",
              "    </tr>\n",
              "    <tr>\n",
              "      <th>5</th>\n",
              "      <td>0.05</td>\n",
              "      <td>-0.000007</td>\n",
              "      <td>2.4958</td>\n",
              "      <td>-1.1345</td>\n",
              "      <td>-1.521500e-23</td>\n",
              "      <td>-4.940656e-321</td>\n",
              "      <td>3.252600e-04</td>\n",
              "      <td>-0.088425</td>\n",
              "      <td>-0.42342</td>\n",
              "      <td>-0.29589</td>\n",
              "      <td>-269.25</td>\n",
              "      <td>-114.15</td>\n",
              "      <td>2.4066</td>\n",
              "      <td>-0.08059</td>\n",
              "      <td>2.164600e-20</td>\n",
              "      <td>-1.141292e-321</td>\n",
              "      <td>2.930300e-01</td>\n",
              "    </tr>\n",
              "  </tbody>\n",
              "</table>\n",
              "</div>\n",
              "      <button class=\"colab-df-convert\" onclick=\"convertToInteractive('df-37db270e-c23e-437e-b50b-77f5b5cf7708')\"\n",
              "              title=\"Convert this dataframe to an interactive table.\"\n",
              "              style=\"display:none;\">\n",
              "        \n",
              "  <svg xmlns=\"http://www.w3.org/2000/svg\" height=\"24px\"viewBox=\"0 0 24 24\"\n",
              "       width=\"24px\">\n",
              "    <path d=\"M0 0h24v24H0V0z\" fill=\"none\"/>\n",
              "    <path d=\"M18.56 5.44l.94 2.06.94-2.06 2.06-.94-2.06-.94-.94-2.06-.94 2.06-2.06.94zm-11 1L8.5 8.5l.94-2.06 2.06-.94-2.06-.94L8.5 2.5l-.94 2.06-2.06.94zm10 10l.94 2.06.94-2.06 2.06-.94-2.06-.94-.94-2.06-.94 2.06-2.06.94z\"/><path d=\"M17.41 7.96l-1.37-1.37c-.4-.4-.92-.59-1.43-.59-.52 0-1.04.2-1.43.59L10.3 9.45l-7.72 7.72c-.78.78-.78 2.05 0 2.83L4 21.41c.39.39.9.59 1.41.59.51 0 1.02-.2 1.41-.59l7.78-7.78 2.81-2.81c.8-.78.8-2.07 0-2.86zM5.41 20L4 18.59l7.72-7.72 1.47 1.35L5.41 20z\"/>\n",
              "  </svg>\n",
              "      </button>\n",
              "      \n",
              "  <style>\n",
              "    .colab-df-container {\n",
              "      display:flex;\n",
              "      flex-wrap:wrap;\n",
              "      gap: 12px;\n",
              "    }\n",
              "\n",
              "    .colab-df-convert {\n",
              "      background-color: #E8F0FE;\n",
              "      border: none;\n",
              "      border-radius: 50%;\n",
              "      cursor: pointer;\n",
              "      display: none;\n",
              "      fill: #1967D2;\n",
              "      height: 32px;\n",
              "      padding: 0 0 0 0;\n",
              "      width: 32px;\n",
              "    }\n",
              "\n",
              "    .colab-df-convert:hover {\n",
              "      background-color: #E2EBFA;\n",
              "      box-shadow: 0px 1px 2px rgba(60, 64, 67, 0.3), 0px 1px 3px 1px rgba(60, 64, 67, 0.15);\n",
              "      fill: #174EA6;\n",
              "    }\n",
              "\n",
              "    [theme=dark] .colab-df-convert {\n",
              "      background-color: #3B4455;\n",
              "      fill: #D2E3FC;\n",
              "    }\n",
              "\n",
              "    [theme=dark] .colab-df-convert:hover {\n",
              "      background-color: #434B5C;\n",
              "      box-shadow: 0px 1px 3px 1px rgba(0, 0, 0, 0.15);\n",
              "      filter: drop-shadow(0px 1px 2px rgba(0, 0, 0, 0.3));\n",
              "      fill: #FFFFFF;\n",
              "    }\n",
              "  </style>\n",
              "\n",
              "      <script>\n",
              "        const buttonEl =\n",
              "          document.querySelector('#df-37db270e-c23e-437e-b50b-77f5b5cf7708 button.colab-df-convert');\n",
              "        buttonEl.style.display =\n",
              "          google.colab.kernel.accessAllowed ? 'block' : 'none';\n",
              "\n",
              "        async function convertToInteractive(key) {\n",
              "          const element = document.querySelector('#df-37db270e-c23e-437e-b50b-77f5b5cf7708');\n",
              "          const dataTable =\n",
              "            await google.colab.kernel.invokeFunction('convertToInteractive',\n",
              "                                                     [key], {});\n",
              "          if (!dataTable) return;\n",
              "\n",
              "          const docLinkHtml = 'Like what you see? Visit the ' +\n",
              "            '<a target=\"_blank\" href=https://colab.research.google.com/notebooks/data_table.ipynb>data table notebook</a>'\n",
              "            + ' to learn more about interactive tables.';\n",
              "          element.innerHTML = '';\n",
              "          dataTable['output_type'] = 'display_data';\n",
              "          await google.colab.output.renderOutput(dataTable, element);\n",
              "          const docLink = document.createElement('div');\n",
              "          docLink.innerHTML = docLinkHtml;\n",
              "          element.appendChild(docLink);\n",
              "        }\n",
              "      </script>\n",
              "    </div>\n",
              "  </div>\n",
              "  "
            ],
            "text/plain": [
              "      t        q1      q2  ...          ddq1           ddq2          ddq3\n",
              "0  0.00 -0.000007  2.4958  ... -9.904900e-19 -6.210306e-319  4.917400e-27\n",
              "1  0.01 -0.000007  2.4958  ...  4.248100e-19 -1.766878e-319 -1.381100e-27\n",
              "2  0.02 -0.000007  2.4958  ...  3.233800e-19 -4.990557e-320 -4.117300e-28\n",
              "3  0.03 -0.000007  2.4958  ...  1.500500e-19 -1.394253e-320 -1.173100e-28\n",
              "4  0.04 -0.000007  2.4958  ...  5.932400e-20 -3.581976e-321 -3.770800e-01\n",
              "5  0.05 -0.000007  2.4958  ...  2.164600e-20 -1.141292e-321  2.930300e-01\n",
              "\n",
              "[6 rows x 17 columns]"
            ]
          },
          "metadata": {},
          "execution_count": 31
        }
      ],
      "source": [
        "# TODO 2\n",
        "df.head(6)"
      ]
    },
    {
      "cell_type": "markdown",
      "metadata": {
        "id": "fkUgt7EYayeg"
      },
      "source": [
        "From the dataframe `df`, extract the time indices into a vector `t` and extract `I2`, the current into the second joint.  Place the current in a vector `y` and plot `y` vs. `t`.   Label the axes with the units."
      ]
    },
    {
      "cell_type": "code",
      "execution_count": 33,
      "metadata": {
        "colab": {
          "base_uri": "https://localhost:8080/",
          "height": 296
        },
        "id": "tNFwj6RXayeg",
        "outputId": "8c7a3679-cd2f-4d0e-8bd6-6e6ea59e554e"
      },
      "outputs": [
        {
          "output_type": "execute_result",
          "data": {
            "text/plain": [
              "[<matplotlib.lines.Line2D at 0x7f321fb69a90>]"
            ]
          },
          "metadata": {},
          "execution_count": 33
        },
        {
          "output_type": "display_data",
          "data": {
            "image/png": "[encoded data removed]",
            "text/plain": [
              "<Figure size 432x288 with 1 Axes>"
            ]
          },
          "metadata": {
            "needs_background": "light"
          }
        }
      ],
      "source": [
        "# TODO 3\n",
        "y = np.array(df['I2'])\n",
        "x = np.array(df['t'])\n",
        "plt.xlabel('t')\n",
        "plt.ylabel('I2')\n",
        "plt.grid(True)\n",
        "plt.plot(x,y,'o')\n",
        "# y = ...\n",
        "# t = ...\n",
        "# plt.plot(...)"
      ]
    },
    {
      "cell_type": "markdown",
      "metadata": {
        "id": "d1s3F609ayeg"
      },
      "source": [
        "Use all the samples from the experiment 1 dataset to create the training data:\n",
        "* `ytrain`:  A vector of all the samples from the `I2` column\n",
        "* `Xtrain`:  A matrix of the data with the columns:  `['q2','dq2','eps21', 'eps22', 'eps31', 'eps32','ddq2']`"
      ]
    },
    {
      "cell_type": "code",
      "execution_count": 39,
      "metadata": {
        "colab": {
          "base_uri": "https://localhost:8080/"
        },
        "id": "qhKG9Au_ayeg",
        "outputId": "b676b2e1-47f7-4f37-80a0-d58cf22a94c3"
      },
      "outputs": [
        {
          "output_type": "stream",
          "name": "stdout",
          "text": [
            "          q2            dq2   eps21    eps22    eps31    eps32           ddq2\n",
            "0     2.4958 -4.940656e-321 -269.25 -113.200   3.5918  1.57860 -6.210306e-319\n",
            "1     2.4958 -4.940656e-321 -270.91 -116.050   1.4585 -1.73980 -1.766878e-319\n",
            "2     2.4958 -4.940656e-321 -269.25 -112.970   3.5918  0.86753 -4.990557e-320\n",
            "3     2.4958 -4.940656e-321 -269.97 -114.390   1.6956 -0.08059 -1.394253e-320\n",
            "4     2.4958 -4.940656e-321 -269.97 -114.150   3.1177  0.86753 -3.581976e-321\n",
            "...      ...            ...     ...      ...      ...      ...            ...\n",
            "7995  1.9441   1.092700e+00 -110.44  -40.434  -2.3340  3.71190   3.884400e-01\n",
            "7996  1.9550   1.081500e+00 -114.71  -41.619  -2.0969  1.10460  -6.908700e-01\n",
            "7997  1.9659   1.095700e+00 -118.03  -41.856  -2.0969  3.71190   8.226400e-01\n",
            "7998  1.9768   1.091300e+00 -133.20  -57.737 -12.5260 -5.76930  -8.205000e-02\n",
            "7999  1.9877   1.089900e+00 -135.57  -56.078 -11.1040 -1.50280  -1.255900e-01\n",
            "\n",
            "[8000 rows x 7 columns]\n"
          ]
        }
      ],
      "source": [
        "# TODO 4\n",
        "# ytrain = ...\n",
        "ytrain = df['I2']\n",
        "Xtrain = df[['q2','dq2','eps21', 'eps22', 'eps31', 'eps32','ddq2']]\n",
        "print(Xtrain)"
      ]
    },
    {
      "cell_type": "markdown",
      "metadata": {
        "id": "VZeJGMjWayeh"
      },
      "source": [
        "## Fit a Linear Model\n",
        "Use the `sklearn.linear_model` module to create a `LinearRegression` class `regr`."
      ]
    },
    {
      "cell_type": "code",
      "execution_count": 36,
      "metadata": {
        "id": "T6iCltYwayeh"
      },
      "outputs": [],
      "source": [
        "from sklearn import linear_model\n",
        "\n",
        "# Create linear regression object\n",
        "# TODO 5\n",
        "regr = linear_model.LinearRegression()\n",
        "# regr = linear_model.LinearRegression()\n"
      ]
    },
    {
      "cell_type": "markdown",
      "metadata": {
        "id": "8CGj9wqSayeh"
      },
      "source": [
        "Train the model on the training data."
      ]
    },
    {
      "cell_type": "code",
      "execution_count": 37,
      "metadata": {
        "colab": {
          "base_uri": "https://localhost:8080/"
        },
        "id": "8_Nu6BYYayeh",
        "outputId": "f3931907-92de-4205-b848-1b4d01e35af2"
      },
      "outputs": [
        {
          "output_type": "execute_result",
          "data": {
            "text/plain": [
              "LinearRegression()"
            ]
          },
          "metadata": {},
          "execution_count": 37
        }
      ],
      "source": [
        "# TODO 6\n",
        "regr.fit(Xtrain,ytrain)"
      ]
    },
    {
      "cell_type": "markdown",
      "metadata": {
        "id": "gNybnIUdayeh"
      },
      "source": [
        "Using the trained model, compute, `ytrain_pred`, the predicted current.  Plot `ytrain_pred` vs. time `t`.  On the same plot, plot the actual current `ytrain` vs. time `t`.  Create a legend for the plot."
      ]
    },
    {
      "cell_type": "code",
      "execution_count": 47,
      "metadata": {
        "colab": {
          "base_uri": "https://localhost:8080/",
          "height": 296
        },
        "id": "Pz-mNu4Mayeh",
        "outputId": "b93a3760-f3ea-429d-dc8a-51fa7198ae82"
      },
      "outputs": [
        {
          "output_type": "execute_result",
          "data": {
            "text/plain": [
              "<matplotlib.legend.Legend at 0x7f320d1b8d50>"
            ]
          },
          "metadata": {},
          "execution_count": 47
        },
        {
          "output_type": "display_data",
          "data": {
            "image/png": "[encoded data removed]",
            "text/plain": [
              "<Figure size 432x288 with 1 Axes>"
            ]
          },
          "metadata": {
            "needs_background": "light"
          }
        }
      ],
      "source": [
        "# TODO 7\n",
        "ytrain_pred = regr.predict(Xtrain)\n",
        "t = df['t']\n",
        "plt.xlabel('t')\n",
        "plt.ylabel('I2')\n",
        "plt.grid(True)\n",
        "line1, = plt.plot(t,ytrain,'x', label = 'y train')\n",
        "line2, =plt.plot(t,ytrain_pred,'o',label='y train predict')\n",
        "plt.legend(handles=[line1, line2])"
      ]
    },
    {
      "cell_type": "markdown",
      "metadata": {
        "id": "afHUVcd3ayei"
      },
      "source": [
        "Measure the normalized RSS given by `RSS / (n s^2_y)."
      ]
    },
    {
      "cell_type": "code",
      "execution_count": 48,
      "metadata": {
        "colab": {
          "base_uri": "https://localhost:8080/"
        },
        "id": "WEJF1874ayei",
        "outputId": "9df9ad8d-36e2-46d3-8245-84cf336950d9"
      },
      "outputs": [
        {
          "output_type": "stream",
          "name": "stdout",
          "text": [
            "RSS per sample = 0.095833\n",
            "R^2 =            0.904167\n"
          ]
        }
      ],
      "source": [
        "# TODO 8\n",
        "RSS_train = np.mean((ytrain_pred-ytrain)**2)/(np.std(ytrain)**2)\n",
        "Rsq_tr = 1-RSS_train\n",
        "print(\"RSS per sample = {0:f}\".format(RSS_train))\n",
        "print(\"R^2 =            {0:f}\".format(Rsq_tr))"
      ]
    },
    {
      "cell_type": "markdown",
      "metadata": {
        "id": "OxZMHML2ayei"
      },
      "source": [
        "## Measure the Fit on an Indepdent Dataset\n",
        "\n",
        "Up to now, we have only tested the model on the same data on which it was trained.  In general, we need to test model on independent data not used in the training.  For this purpose, load the data in `exp2.csv`.  Compute the regression predicted values on this data and plot the predicted and actual values over time."
      ]
    },
    {
      "cell_type": "code",
      "execution_count": 52,
      "metadata": {
        "colab": {
          "base_uri": "https://localhost:8080/",
          "height": 296
        },
        "id": "lVXBitF8ayei",
        "outputId": "1735c037-d8ec-40bb-8db8-478095b4a53a"
      },
      "outputs": [
        {
          "output_type": "execute_result",
          "data": {
            "text/plain": [
              "<matplotlib.legend.Legend at 0x7f320cfc16d0>"
            ]
          },
          "metadata": {},
          "execution_count": 52
        },
        {
          "output_type": "display_data",
          "data": {
            "image/png": "[encoded data removed]",
            "text/plain": [
              "<Figure size 432x288 with 1 Axes>"
            ]
          },
          "metadata": {
            "needs_background": "light"
          }
        }
      ],
      "source": [
        "# TODO 9\n",
        "df2 = pd.read_csv('exp2.csv', header=None, names=names)\n",
        "# df2.head(6)\n",
        "xTest = df2[['q2','dq2','eps21', 'eps22', 'eps31', 'eps32','ddq2']]\n",
        "ytest = df2['I2']\n",
        "ytest_pred = regr.predict(xTest)\n",
        "\n",
        "t = df2['t']\n",
        "plt.xlabel('t')\n",
        "plt.ylabel('I2')\n",
        "plt.grid(True)\n",
        "line1, = plt.plot(t,ytest,'x', label = 'y test')\n",
        "line2, =plt.plot(t,ytest_pred,'o',label='y test predict')\n",
        "plt.legend(handles=[line1, line2])"
      ]
    },
    {
      "cell_type": "markdown",
      "metadata": {
        "id": "JQX-GGLdayei"
      },
      "source": [
        "Measure the normalized RSS on the test data."
      ]
    },
    {
      "cell_type": "code",
      "execution_count": 55,
      "metadata": {
        "colab": {
          "base_uri": "https://localhost:8080/"
        },
        "id": "leBCBLy7ayei",
        "outputId": "28ed18cc-c66e-4b0a-bde0-b5a5682ea184"
      },
      "outputs": [
        {
          "output_type": "stream",
          "name": "stdout",
          "text": [
            "0.12678048804762485\n"
          ]
        }
      ],
      "source": [
        "# TODO 10\n",
        "RSS_test = np.mean((ytest_pred-ytest)**2)/(np.std(ytest)**2)\n",
        "# RSS_test_normalized = RSS / (n s^2_y)\n",
        "print(RSS_test)"
      ]
    },
    {
      "cell_type": "code",
      "execution_count": null,
      "metadata": {
        "id": "0DCyHiUgayej"
      },
      "outputs": [],
      "source": [
        ""
      ]
    }
  ],
  "metadata": {
    "anaconda-cloud": {},
    "kernelspec": {
      "display_name": "Python 3",
      "language": "python",
      "name": "python3"
    },
    "language_info": {
      "codemirror_mode": {
        "name": "ipython",
        "version": 3
      },
      "file_extension": ".py",
      "mimetype": "text/x-python",
      "name": "python",
      "nbconvert_exporter": "python",
      "pygments_lexer": "ipython3",
      "version": "3.8.5"
    },
    "colab": {
      "name": "lab_robot_calib_partial.ipynb",
      "provenance": []
    }
  },
  "nbformat": 4,
  "nbformat_minor": 0
}