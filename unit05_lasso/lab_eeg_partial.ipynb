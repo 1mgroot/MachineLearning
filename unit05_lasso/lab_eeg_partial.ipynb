{
  "cells": [
    {
      "cell_type": "markdown",
      "metadata": {
        "id": "Fq-U2oAPNPj2"
      },
      "source": [
        "### Student Name: Junze Zhang\n",
        "### Student Net Id: jz4866\n"
      ]
    },
    {
      "cell_type": "markdown",
      "metadata": {
        "id": "zY0imT5XNPj3"
      },
      "source": [
        "# Lab:  Source Localization for EEG\n",
        "\n",
        "EEG or [Electroencephalography](https://en.wikipedia.org/wiki/Electroencephalography) is a powerful tool for neuroscientists in understanding brain activity.  In EEG, a patient wears a headset with electrodes that measures voltages at a number of points on the scalp.  These voltages arise from ionic currents within the brain.  A common *inverse problem* is to estimate the which parts of the brain caused the measured response.  Source localization is useful in understanding which parts of the brain are involved in certain tasks.  A key challenge in this inverse problem is that the number of unknowns (possible locations in the brain) is much larger than the number of measurements.  In this lab, we will use LASSO regression on a real EEG dataset to overcome this problem and determine the brain region that is active under an auditory stimulus.\n",
        "\n",
        "In addition to the concepts in the [prostate LASSO demo](./demo_prostate.ipynb) you will learn to:\n",
        "* Represent responses of multi-channel time-series data, such as EEG, using linear models\n",
        "* Perform LASSO and Ridge regression\n",
        "* Select the regularization level via cross-validation\n",
        "* Visually compare the sparsity between the solutions\n",
        "\n",
        "We first download standard packages."
      ]
    },
    {
      "cell_type": "code",
      "execution_count": 1,
      "metadata": {
        "id": "k54KfJb7NPj3"
      },
      "outputs": [],
      "source": [
        "import numpy as np\n",
        "import matplotlib.pyplot as plt\n",
        "import pickle\n",
        "\n",
        "from sklearn.linear_model import Lasso, Ridge, ElasticNet\n",
        "from sklearn.metrics import r2_score\n",
        "from sklearn.model_selection import train_test_split"
      ]
    },
    {
      "cell_type": "markdown",
      "metadata": {
        "id": "y0nYnTvLNPj4"
      },
      "source": [
        "## Load the Data\n",
        "\n",
        "The data in this lab is taken from one of the sample datasets in the [MNE website](https://martinos.org/mne/stable/index.html). The sample data is a recording from one subject who experienced some auditory stimulus on the left ear.    \n",
        "\n",
        "The raw data is very large (`1.5G`) and also requires that you install the `mne` python package. To make this lab easier, I have extracted and processed a small section of the data. The following command will download a `pickle` file `eeg_dat.p` to your local machine.  If you do want to create the data yourself, the program to create the data is in this directory in the github repository."
      ]
    },
    {
      "cell_type": "code",
      "execution_count": 2,
      "metadata": {
        "colab": {
          "base_uri": "https://localhost:8080/",
          "height": 0
        },
        "id": "v5y0gUD0NPj4",
        "outputId": "251d70b4-b64a-4d15-e310-953a39a9cde3"
      },
      "outputs": [
        {
          "output_type": "stream",
          "name": "stdout",
          "text": [
            "Fetching file eeg_dat.p [53MB].  This may take a minute..\n",
            "File eeg_dat.p downloaded\n"
          ]
        }
      ],
      "source": [
        "fn_src ='https://drive.google.com/uc?export=download&id=1RzQpKONOcXSMxH2ZzOI4iVMiTgD6ttSl'\n",
        "fn_dst ='eeg_dat.p'\n",
        "\n",
        "import os\n",
        "from six.moves import urllib\n",
        "\n",
        "if os.path.isfile(fn_dst):\n",
        "    print('File %s is already downloaded' % fn_dst)\n",
        "else:        \n",
        "    print('Fetching file %s [53MB].  This may take a minute..' % fn_dst)\n",
        "    urllib.request.urlretrieve(fn_src, fn_dst)\n",
        "    print('File %s downloaded' % fn_dst)"
      ]
    },
    {
      "cell_type": "markdown",
      "metadata": {
        "id": "p6-px3bmNPj4"
      },
      "source": [
        "Now run the following command which will get the data from the `pickle` file."
      ]
    },
    {
      "cell_type": "code",
      "execution_count": 3,
      "metadata": {
        "id": "DvjFFR-ANPj4"
      },
      "outputs": [],
      "source": [
        "import pickle\n",
        "fn = 'eeg_dat.p'\n",
        "with open(fn, 'rb') as fp:\n",
        "    [X,Y] = pickle.load(fp)"
      ]
    },
    {
      "cell_type": "markdown",
      "metadata": {
        "id": "7lnCvAR5NPj5"
      },
      "source": [
        "To understand the data, there are three key variables:\n",
        "* `nt`    = number of time steps that we measure data\n",
        "* `nchan` = number of channels (i.e. electrodes) measured in each time step\n",
        "* `ncur`  = number of currents in the brain that we want to estimate.  \n",
        "\n",
        "Each current comes from one brain region (called a *voxel*) in either the `x`, `y` or `z` direction.  So,\n",
        "\n",
        "    nvoxels = ncur / 3\n",
        "    \n",
        "The components of the `X` and `Y` matrices are:\n",
        "*  `Y[i,k]` = electric field measurement on channel `i` at time `k`\n",
        "*  `X[i,j]` = sensitivity of channel `i` to current `j`.\n",
        "\n",
        "Using `X.shape` and `Y.shape` compute and print `nt`, `nchan`, `ncur` and `nvoxels`."
      ]
    },
    {
      "cell_type": "code",
      "execution_count": 25,
      "metadata": {
        "colab": {
          "base_uri": "https://localhost:8080/",
          "height": 0
        },
        "id": "bFU4I3qZNPj5",
        "outputId": "57b31858-4c17-480e-c71a-ec4d88aec12d"
      },
      "outputs": [
        {
          "output_type": "stream",
          "name": "stdout",
          "text": [
            "(305, 85)\n",
            "(305, 22494)\n"
          ]
        }
      ],
      "source": [
        "# TODO 1\n",
        "print(Y.shape)\n",
        "print(X.shape)\n",
        "\n",
        "\n",
        "nt = Y.shape[1]\n",
        "ncur = X.shape[1]\n",
        "nchan = X.shape[0]\n",
        "nvoxels = ncur/3"
      ]
    },
    {
      "cell_type": "markdown",
      "metadata": {
        "id": "svy5b0uENPj5"
      },
      "source": [
        "## Ridge Regression\n",
        "\n",
        "Our goal is to estimate the currents in the brain from the measurements `Y`.  One simple linear model is:\n",
        "\n",
        "    Y[i,k]  = \\sum_j X[i,j]*W[j,k]+ b[k]\n",
        "\n",
        "where `W[j,k]` is the value of current `j` at time `k` and `b[k]` is a bias.  We can solve for the current matrix `W` via linear regression.  \n",
        "\n",
        "Howeever, there is a problem:\n",
        "*  There are `nt x ncur` unknowns in `W`\n",
        "*  There are only `nt x nchan` measurements in `Y`.\n",
        "\n",
        "In this problem, we have:\n",
        "\n",
        "    number of measurements  << number of unknowns\n",
        "    \n",
        "We need to use regularization in these circumstances.  We first try Ridge regression.\n",
        "\n",
        "First split the data into training and test.  Use the `train_test_split` function with `test_size=0.33`."
      ]
    },
    {
      "cell_type": "code",
      "execution_count": 26,
      "metadata": {
        "id": "cEBRyHS2NPj5"
      },
      "outputs": [],
      "source": [
        "# TODO 2\n",
        "Xtr,Xts,Ytr,Yts = train_test_split(X,Y,test_size=0.33) "
      ]
    },
    {
      "cell_type": "markdown",
      "metadata": {
        "id": "_w1shB54NPj6"
      },
      "source": [
        "Use the `Ridge` regression object in `sklearn` to fit the model on the training data.  Use a regularization, `alpha=1`."
      ]
    },
    {
      "cell_type": "code",
      "execution_count": 27,
      "metadata": {
        "colab": {
          "base_uri": "https://localhost:8080/",
          "height": 0
        },
        "id": "_ZD7gY9vNPj6",
        "outputId": "1a1c4606-8167-4e95-f6a7-d040636de412"
      },
      "outputs": [
        {
          "output_type": "execute_result",
          "data": {
            "text/plain": [
              "Ridge(alpha=1)"
            ]
          },
          "metadata": {},
          "execution_count": 27
        }
      ],
      "source": [
        "# TODO 3\n",
        "# regr = Ridge(...)\n",
        "\n",
        "regr = Ridge(alpha=1)\n",
        "regr.fit(Xtr, Ytr)\n"
      ]
    },
    {
      "cell_type": "markdown",
      "metadata": {
        "id": "ZcfHqxplNPj6"
      },
      "source": [
        "Preict the values `Y` on both the training and test data.  Use the `r2_score` method to measure the `R^2` value on both the training and test.  You will see that `R^2` value is large for the training data, it is very low for the test data.  This suggest that even with regularization, the model is over-fitting the data."
      ]
    },
    {
      "cell_type": "code",
      "execution_count": 28,
      "metadata": {
        "colab": {
          "base_uri": "https://localhost:8080/",
          "height": 0
        },
        "id": "jp8Lb1i4NPj6",
        "outputId": "aad9c0f1-a5b8-4604-a2bf-3b5ad96dd227"
      },
      "outputs": [
        {
          "output_type": "stream",
          "name": "stdout",
          "text": [
            "Test R^2     = 0.224428\n",
            "Train R^2     = 0.620621\n"
          ]
        }
      ],
      "source": [
        "# TODO 4\n",
        "yhat1 = regr.predict(Xts)\n",
        "rsq_ts = r2_score(Yts, yhat1)\n",
        "print('Test R^2     = %f' % rsq_ts)\n",
        "yhat_tr = regr.predict(Xtr)\n",
        "rsq_tr = r2_score(Ytr, yhat_tr)\n",
        "print('Train R^2     = %f' % rsq_tr)\n",
        "# rsq_ts = ..."
      ]
    },
    {
      "cell_type": "markdown",
      "metadata": {
        "id": "19y53-tjNPj6"
      },
      "source": [
        "Next, try to see if we can get a better `R^2` score using different values of `alpha`.  Use cross-validation to measure the test `R^2` for 20 `alpha` values logarithmically spaced from `10^{-2}` to `10^{2}` (use `np.logspace()`).  You can use regular cross-validation.  You do not need to do `K`-fold."
      ]
    },
    {
      "cell_type": "code",
      "execution_count": 29,
      "metadata": {
        "colab": {
          "base_uri": "https://localhost:8080/",
          "height": 0
        },
        "id": "dLmFp-n4NPj6",
        "outputId": "d5cd39ef-0b71-4ee6-982a-ee628694636a"
      },
      "outputs": [
        {
          "output_type": "stream",
          "name": "stdout",
          "text": [
            "[0.06615266453921738, 0.06079061530350838, 0.05597905317266349, 0.05176753755992903, 0.048201156254719324, 0.04534738203194076, 0.043331389416711594, 0.04232554314990163, 0.04247619597434976, 0.04380255067496359, 0.04614037846362825, 0.04917081218444059, 0.05249601963324587, 0.05572107821544035, 0.058539452288196896, 0.06079470733574051, 0.06247664032094616, 0.06366539966805777, 0.06447237299479405, 0.06500392032256437]\n"
          ]
        }
      ],
      "source": [
        "import sklearn\n",
        "# TODO 5\n",
        "\n",
        "    # Regularization values to test\n",
        "nalpha = 20\n",
        "alphas = np.logspace(-2,2,nalpha)\n",
        "r2s =[]\n",
        "    # Compute the lasso path for the split\n",
        "for ia, a in enumerate(alphas):\n",
        "  regr = Ridge(alpha=a)\n",
        "  regr.fit(Xtr, Ytr)  \n",
        "  yts_pred = regr.predict(Xts)\n",
        "  r2s.append( np.mean((yts_pred - Yts)**2))\n",
        "\n",
        "print(r2s)"
      ]
    },
    {
      "cell_type": "markdown",
      "metadata": {
        "id": "-MRwiBQBNPj6"
      },
      "source": [
        "Plot the test `R^2` vs. `alpha`.  And print the maximum test `R^2`.  You should see that the maximum test `R^2` is still not very high."
      ]
    },
    {
      "cell_type": "code",
      "execution_count": 30,
      "metadata": {
        "colab": {
          "base_uri": "https://localhost:8080/",
          "height": 313
        },
        "id": "a88BhD1QNPj6",
        "outputId": "cfb09e27-2e50-4124-d210-8fc15f99dcdf"
      },
      "outputs": [
        {
          "output_type": "display_data",
          "data": {
            "image/png": "[encoded data removed]",
            "text/plain": [
              "<Figure size 432x288 with 1 Axes>"
            ]
          },
          "metadata": {
            "needs_background": "light"
          }
        },
        {
          "output_type": "stream",
          "name": "stdout",
          "text": [
            "Alpha optimal (normal rule) =   1.0000e-02\n",
            "Mean test R^2 (normal rule) =   0.066\n"
          ]
        }
      ],
      "source": [
        "# TODO 6\n",
        "\n",
        "plt.errorbar(np.log10(alphas), r2s)\n",
        "plt.xlabel('log10(alpha)')\n",
        "plt.ylabel('Test R^2')\n",
        "plt.grid()\n",
        "plt.show()\n",
        "\n",
        "im = np.argmax(r2s)\n",
        "alpha_normal = alphas[im]\n",
        "print('Alpha optimal (normal rule) = %12.4e' % alpha_normal)\n",
        "print('Mean test R^2 (normal rule) = %7.3f' % r2s[im])"
      ]
    },
    {
      "cell_type": "markdown",
      "metadata": {
        "id": "w62SWCoMNPj7"
      },
      "source": [
        "Now, let's take a look at the solution. \n",
        "\n",
        "* Find the optimal regularization `alpha` from the cross-validation\n",
        "* Re-fit the model at the optimal `alpha`\n",
        "* Get the current matrix `W` from the coefficients in the linear model.  These are stored in `regr.coef_`.  You may need a transpose\n",
        "* For each current `j` compute `Wrms[j] =  sqrt( sum_k W[j,k]**2 )` which is root mean squared current.\n",
        "\n",
        "You will see that the vector `Wrms` is not sparse.  This means that the solution that is found with Ridge regression finds currents in all locations."
      ]
    },
    {
      "cell_type": "code",
      "source": [
        ""
      ],
      "metadata": {
        "id": "J7ysfqgqFCe3"
      },
      "execution_count": null,
      "outputs": []
    },
    {
      "cell_type": "code",
      "execution_count": 42,
      "metadata": {
        "colab": {
          "base_uri": "https://localhost:8080/",
          "height": 0
        },
        "id": "x0FtWNEjNPj7",
        "outputId": "0a49b5a6-7857-4a2e-b296-bcd7ff94bf17"
      },
      "outputs": [
        {
          "output_type": "stream",
          "name": "stdout",
          "text": [
            "[12.63754783  7.95071684 11.82635193 ...  1.46063006  0.51269887\n",
            "  1.4018509 ]\n"
          ]
        }
      ],
      "source": [
        "from math import sqrt\n",
        "# TODO 7\n",
        "\n",
        "# j node k time\n",
        "\n",
        "bestAlpha = alphas[im]\n",
        "regr = Ridge(alpha=bestAlpha)\n",
        "regr.fit(Xtr, Ytr)  \n",
        "W = regr.coef_\n",
        "W = W.transpose()\n",
        "Wrms = np.zeros(ncur)\n",
        "\n",
        "for j in range(ncur):\n",
        "  for k in range(0,nt):\n",
        "    Wrms[j] += sqrt(W[j,k]**2)\n",
        "\n",
        "print(Wrms)"
      ]
    },
    {
      "cell_type": "markdown",
      "metadata": {
        "id": "AsgymDBhNPj7"
      },
      "source": [
        "## LASSO Regression\n",
        "\n",
        "We can improve the estimate by imposing sparsity.  Biologically, we know that only a limited number of brain regions should be involved in the reponse to a particular stimuli.  As a result, we would expect that the current matrix `W[j,k]` to be zero for most values `j,k`.  We can impose this constraint using LASSO regularization.\n",
        "\n",
        "Re-fit the training data using the `Lasso` model with `alpha=1e-3`.  Also set `max_iter=100` and `tol=0.01`.  The LASSO solver is much slower, so this make take a minute."
      ]
    },
    {
      "cell_type": "code",
      "execution_count": 33,
      "metadata": {
        "id": "l1oGapdNNPj7"
      },
      "outputs": [],
      "source": [
        "# TODO 8\n",
        "lassoAlpha = 1e-3\n",
        "reg = Lasso(alpha=lassoAlpha, max_iter=100,tol=0.01)"
      ]
    },
    {
      "cell_type": "markdown",
      "metadata": {
        "id": "SeQFxTCKNPj7"
      },
      "source": [
        "Now, test the model on the test data and measure the `R^2` value.  You should get a much better fit than with the Ridge regression solution.  "
      ]
    },
    {
      "cell_type": "code",
      "execution_count": 34,
      "metadata": {
        "colab": {
          "base_uri": "https://localhost:8080/",
          "height": 0
        },
        "id": "xKYxq1sINPj7",
        "outputId": "9ed7c6ab-1c0c-48be-f92a-e4b27e22f744"
      },
      "outputs": [
        {
          "output_type": "stream",
          "name": "stdout",
          "text": [
            "Test R^2= 0.175687\n"
          ]
        }
      ],
      "source": [
        "# TODO 9\n",
        "\n",
        "# Create Lasso object and fit on training data\n",
        "reg.fit(Xtr, Ytr)\n",
        "\n",
        "# Predict and score on test\n",
        "yhat1 = reg.predict(Xts)\n",
        "rsq = r2_score(Yts, yhat1)\n",
        "\n",
        "print('Test R^2= %f' % rsq)"
      ]
    },
    {
      "cell_type": "markdown",
      "metadata": {
        "id": "nPUdbHzbNPj7"
      },
      "source": [
        "We can now search for the optimal `alpha`.  Use cross-validation to find the `alpha` logarithically space between `alpha=10^{-3}` and `alpha=10^{-4}`.  Each fit takes some time, so use only 5 values of `alpha`. Also for each `alpha` store the current matrix.  This way, you will not have to re-fit the model."
      ]
    },
    {
      "cell_type": "code",
      "execution_count": 45,
      "metadata": {
        "id": "QX4N0R79NPj7"
      },
      "outputs": [],
      "source": [
        "# TODO 10\n",
        "    # Regularization values to test\n",
        "nalpha = 5\n",
        "alphas = np.logspace(-4,-3,nalpha)\n",
        "r2s =[]\n",
        "    # Compute the lasso path for the split\n",
        "for ia, a in enumerate(alphas):\n",
        "  regr = Ridge(alpha=a)\n",
        "  regr.fit(Xtr, Ytr)  \n",
        "  yts_pred = regr.predict(Xts)\n",
        "  r2s.append( np.mean((yts_pred - Yts)**2))"
      ]
    },
    {
      "cell_type": "markdown",
      "metadata": {
        "id": "K9YRf8BvNPj8"
      },
      "source": [
        "Plot the `r^2` value vs. `alpha`.  Print the optimal `r^2`.  You should see it is much higher than with the best Ridge Regression case."
      ]
    },
    {
      "cell_type": "code",
      "execution_count": 46,
      "metadata": {
        "colab": {
          "base_uri": "https://localhost:8080/",
          "height": 313
        },
        "id": "vaaL-y1MNPj8",
        "outputId": "0cd12e01-3196-458b-b9aa-b410a3fea30d"
      },
      "outputs": [
        {
          "output_type": "display_data",
          "data": {
            "image/png": "[encoded data removed]",
            "text/plain": [
              "<Figure size 432x288 with 1 Axes>"
            ]
          },
          "metadata": {
            "needs_background": "light"
          }
        },
        {
          "output_type": "stream",
          "name": "stdout",
          "text": [
            "Alpha optimal (normal rule) =   1.0000e-04\n",
            "Mean test R^2 (normal rule) =   0.163\n"
          ]
        }
      ],
      "source": [
        "# TODO 11\n",
        "plt.errorbar(np.log10(alphas), r2s)\n",
        "plt.xlabel('log10(alpha)')\n",
        "plt.ylabel('Test R^2')\n",
        "plt.grid()\n",
        "plt.show()\n",
        "\n",
        "im = np.argmax(r2s)\n",
        "alpha_normal = alphas[im]\n",
        "print('Alpha optimal (normal rule) = %12.4e' % alpha_normal)\n",
        "print('Mean test R^2 (normal rule) = %7.3f' % r2s[im])"
      ]
    },
    {
      "cell_type": "markdown",
      "metadata": {
        "id": "5Flb36NDNPj8"
      },
      "source": [
        "Display the current matrix `W` for the optimal `alpha` as you did in the Ridge Regression case.  You will see that is much sparser."
      ]
    },
    {
      "cell_type": "code",
      "execution_count": 47,
      "metadata": {
        "colab": {
          "base_uri": "https://localhost:8080/"
        },
        "id": "4YH4MhTuNPj8",
        "outputId": "d997682b-3c86-4abc-abd0-d383328c84a4"
      },
      "outputs": [
        {
          "output_type": "stream",
          "name": "stdout",
          "text": [
            "[[ 0.          0.          0.         ...  0.          0.\n",
            "   0.        ]\n",
            " [ 0.          0.          0.         ...  0.          0.\n",
            "   0.        ]\n",
            " [ 0.          0.          0.         ...  0.          0.\n",
            "   0.        ]\n",
            " ...\n",
            " [ 0.00732816  0.01165931  0.01759063 ...  0.00608123 -0.00924896\n",
            "   0.00657644]\n",
            " [ 0.00571774  0.00755559  0.00955439 ...  0.00433036  0.00276092\n",
            "  -0.02078483]\n",
            " [ 0.01936058 -0.00952335 -0.009912   ... -0.01437205  0.0141936\n",
            "  -0.0042614 ]]\n"
          ]
        }
      ],
      "source": [
        "# TODO 12\n",
        "W = regr.coef_\n",
        "W = W.transpose()\n",
        "print(X)"
      ]
    },
    {
      "cell_type": "markdown",
      "metadata": {
        "id": "hUy_a8maNPj8"
      },
      "source": [
        "## More fun (NOT GRADED)\n",
        "\n",
        "If you want to more on this lab:\n",
        "* Install the [MNE python package](https://martinos.org/mne/stable/index.html).  This is an amazing package with many tools for processing EEG data.\n",
        "* In particular, you can use the above results to visualize where in the brain the currents sources are.\n",
        "* You can also improve the fitting with more regularization.  For example, we know that the currents will be non-zero in groups:  If the current is non-zero for one time, it is likely to non-zero for all time.  You can use the Group LASSO method.\n",
        "* You can combine these results to make predictions about what the patient is seeing or hearing or thinking."
      ]
    },
    {
      "cell_type": "code",
      "execution_count": null,
      "metadata": {
        "id": "qmGJgGjCNPj8"
      },
      "outputs": [],
      "source": [
        ""
      ]
    }
  ],
  "metadata": {
    "kernelspec": {
      "display_name": "Python 3",
      "language": "python",
      "name": "python3"
    },
    "language_info": {
      "codemirror_mode": {
        "name": "ipython",
        "version": 3
      },
      "file_extension": ".py",
      "mimetype": "text/x-python",
      "name": "python",
      "nbconvert_exporter": "python",
      "pygments_lexer": "ipython3",
      "version": "3.8.5"
    },
    "colab": {
      "name": "lab_eeg_partial.ipynb",
      "provenance": []
    }
  },
  "nbformat": 4,
  "nbformat_minor": 0
}